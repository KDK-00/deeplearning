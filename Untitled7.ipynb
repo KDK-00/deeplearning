{
  "nbformat": 4,
  "nbformat_minor": 0,
  "metadata": {
    "colab": {
      "provenance": [],
      "authorship_tag": "ABX9TyMia3vPjCB0XsgktmLMXpD5",
      "include_colab_link": true
    },
    "kernelspec": {
      "name": "python3",
      "display_name": "Python 3"
    },
    "language_info": {
      "name": "python"
    }
  },
  "cells": [
    {
      "cell_type": "markdown",
      "metadata": {
        "id": "view-in-github",
        "colab_type": "text"
      },
      "source": [
        "<a href=\"https://colab.research.google.com/github/KDK-00/deeplearning/blob/main/Untitled7.ipynb\" target=\"_parent\"><img src=\"https://colab.research.google.com/assets/colab-badge.svg\" alt=\"Open In Colab\"/></a>"
      ]
    },
    {
      "cell_type": "code",
      "execution_count": 1,
      "metadata": {
        "id": "VpvAQQGLpuwp"
      },
      "outputs": [],
      "source": [
        "import numpy as np\n",
        "from collections import Counter\n",
        "from nltk import ngrams"
      ]
    },
    {
      "cell_type": "code",
      "source": [
        "# 토큰화 된 문장(tokens)에서 n-gram을 카운트\n",
        "def simple_count(tokens, n):\n",
        "  return Counter(ngrams(tokens, n))"
      ],
      "metadata": {
        "id": "tM4KR25dp9QH"
      },
      "execution_count": 2,
      "outputs": []
    },
    {
      "cell_type": "code",
      "source": [
        "candidate = \"It is a guide to action which ensures that the military always obeys the commands of the party.\"\n",
        "tokens = candidate.split() # 토큰화\n",
        "result = simple_count(tokens, 1) # n = 1은 유니그램\n",
        "print('유니그램 카운트 :',result)"
      ],
      "metadata": {
        "colab": {
          "base_uri": "https://localhost:8080/"
        },
        "id": "wr-_nYKip_NV",
        "outputId": "d3e4828f-3d7e-4233-ebb0-1f40bfb3f8b7"
      },
      "execution_count": 3,
      "outputs": [
        {
          "output_type": "stream",
          "name": "stdout",
          "text": [
            "유니그램 카운트 : Counter({('the',): 3, ('It',): 1, ('is',): 1, ('a',): 1, ('guide',): 1, ('to',): 1, ('action',): 1, ('which',): 1, ('ensures',): 1, ('that',): 1, ('military',): 1, ('always',): 1, ('obeys',): 1, ('commands',): 1, ('of',): 1, ('party.',): 1})\n"
          ]
        }
      ]
    },
    {
      "cell_type": "code",
      "source": [
        "candidate = 'the the the the the the the'\n",
        "tokens = candidate.split() # 토큰화\n",
        "result = simple_count(tokens, 1) # n = 1은 유니그램\n",
        "print('유니그램 카운트 :',result)"
      ],
      "metadata": {
        "colab": {
          "base_uri": "https://localhost:8080/"
        },
        "id": "SOHMZ_aPqBED",
        "outputId": "f042e010-0cd0-43bf-d3b4-c87a9fa989e9"
      },
      "execution_count": 4,
      "outputs": [
        {
          "output_type": "stream",
          "name": "stdout",
          "text": [
            "유니그램 카운트 : Counter({('the',): 7})\n"
          ]
        }
      ]
    },
    {
      "cell_type": "code",
      "source": [
        "def count_clip(candidate, reference_list, n):\n",
        "  # Ca 문장에서 n-gram 카운트\n",
        "  ca_cnt = simple_count(candidate, n)\n",
        "  max_ref_cnt_dict = dict()\n",
        "\n",
        "  for ref in reference_list:\n",
        "    # Ref 문장에서 n-gram 카운트\n",
        "    ref_cnt = simple_count(ref, n)\n",
        "\n",
        "    # 각 Ref 문장에 대해서 비교하여 n-gram의 최대 등장 횟수를 계산.\n",
        "    for n_gram in ref_cnt:\n",
        "      if n_gram in max_ref_cnt_dict:\n",
        "        max_ref_cnt_dict[n_gram] = max(ref_cnt[n_gram], max_ref_cnt_dict[n_gram])\n",
        "      else:\n",
        "        max_ref_cnt_dict[n_gram] = ref_cnt[n_gram]\n",
        "\n",
        "  return {\n",
        "        # count_clip = min(count, max_ref_count)\n",
        "        n_gram: min(ca_cnt.get(n_gram, 0), max_ref_cnt_dict.get(n_gram, 0)) for n_gram in ca_cnt\n",
        "     }\n",
        "\n"
      ],
      "metadata": {
        "id": "pOvYnZkzqFEK"
      },
      "execution_count": 5,
      "outputs": []
    },
    {
      "cell_type": "code",
      "source": [
        "candidate = 'the the the the the the the'\n",
        "references = [\n",
        "    'the cat is on the mat',\n",
        "    'there is a cat on the mat'\n",
        "]\n",
        "result = count_clip(candidate.split(),list(map(lambda ref: ref.split(), references)),1)\n",
        "print('보정된 유니그램 카운트 :',result)"
      ],
      "metadata": {
        "colab": {
          "base_uri": "https://localhost:8080/"
        },
        "id": "jBEqdmHhqHQY",
        "outputId": "9d9cdffc-9f36-4454-97c9-c6ccf8ea61a3"
      },
      "execution_count": 6,
      "outputs": [
        {
          "output_type": "stream",
          "name": "stdout",
          "text": [
            "보정된 유니그램 카운트 : {('the',): 2}\n"
          ]
        }
      ]
    },
    {
      "cell_type": "code",
      "source": [
        "def modified_precision(candidate, reference_list, n):\n",
        "  clip_cnt = count_clip(candidate, reference_list, n)\n",
        "  total_clip_cnt = sum(clip_cnt.values()) # 분자\n",
        "\n",
        "  cnt = simple_count(candidate, n)\n",
        "  total_cnt = sum(cnt.values()) # 분모\n",
        "\n",
        "  # 분모가 0이 되는 것을 방지\n",
        "  if total_cnt == 0:\n",
        "    total_cnt = 1\n",
        "\n",
        "  # 분자 : count_clip의 합, 분모 : 단순 count의 합 ==> 보정된 정밀도\n",
        "  return (total_clip_cnt / total_cnt)\n"
      ],
      "metadata": {
        "id": "Y3NnOho1qJIs"
      },
      "execution_count": 7,
      "outputs": []
    },
    {
      "cell_type": "code",
      "source": [
        "result = modified_precision(candidate.split(), list(map(lambda ref: ref.split(), references)), n=1)\n",
        "print('보정된 유니그램 정밀도 :',result)\n"
      ],
      "metadata": {
        "colab": {
          "base_uri": "https://localhost:8080/"
        },
        "id": "1SHhI6-cqLgW",
        "outputId": "93fdb4ac-eab3-4c8a-bce9-b9daf30aeed7"
      },
      "execution_count": 8,
      "outputs": [
        {
          "output_type": "stream",
          "name": "stdout",
          "text": [
            "보정된 유니그램 정밀도 : 0.2857142857142857\n"
          ]
        }
      ]
    },
    {
      "cell_type": "code",
      "source": [
        "# Ca 길이와 가장 근접한 Ref의 길이를 리턴하는 함수\n",
        "def closest_ref_length(candidate, reference_list):\n",
        "  ca_len = len(candidate) # ca 길이\n",
        "  ref_lens = (len(ref) for ref in reference_list) # Ref들의 길이\n",
        "  # 길이 차이를 최소화하는 Ref를 찾아서 Ref의 길이를 리턴\n",
        "  closest_ref_len = min(ref_lens, key=lambda ref_len: (abs(ref_len - ca_len), ref_len))\n",
        "  return closest_ref_len\n"
      ],
      "metadata": {
        "id": "tCBDmCUYqNx3"
      },
      "execution_count": 9,
      "outputs": []
    },
    {
      "cell_type": "code",
      "source": [
        "def brevity_penalty(candidate, reference_list):\n",
        "  ca_len = len(candidate)\n",
        "  ref_len = closest_ref_length(candidate, reference_list)\n",
        "\n",
        "  if ca_len > ref_len:\n",
        "    return 1\n",
        "\n",
        "  # candidate가 비어있다면 BP = 0 → BLEU = 0.0\n",
        "  elif ca_len == 0 :\n",
        "    return 0\n",
        "  else:\n",
        "    return np.exp(1 - ref_len/ca_len)"
      ],
      "metadata": {
        "id": "nl7oIkesuauO"
      },
      "execution_count": 10,
      "outputs": []
    },
    {
      "cell_type": "code",
      "source": [
        "def bleu_score(candidate, reference_list, weights=[0.25, 0.25, 0.25, 0.25]):\n",
        "  bp = brevity_penalty(candidate, reference_list) # 브레버티 패널티, BP\n",
        "\n",
        "  p_n = [modified_precision(candidate, reference_list, n=n) for n, _ in enumerate(weights,start=1)]\n",
        "  # p1, p2, p3, ..., pn\n",
        "  score = np.sum([w_i * np.log(p_i) if p_i != 0 else 0 for w_i, p_i in zip(weights, p_n)])\n",
        "  return bp * np.exp(score)\n"
      ],
      "metadata": {
        "id": "NnZr39emucrF"
      },
      "execution_count": 11,
      "outputs": []
    },
    {
      "cell_type": "markdown",
      "source": [
        "# **2. NLTK를 사용한 BLEU 측정하기**\n",
        "\n",
        "파이썬에서는 NLTK 패키지를 사용하여 BLEU를 계산할 수 있습니다."
      ],
      "metadata": {
        "id": "TXTCpkmLuja5"
      }
    },
    {
      "cell_type": "code",
      "source": [
        "import nltk.translate.bleu_score as bleu\n",
        "\n",
        "candidate = 'It is a guide to action which ensures that the military always obeys the commands of the party'\n",
        "references = [\n",
        "    'It is a guide to action that ensures that the military will forever heed Party commands',\n",
        "    'It is the guiding principle which guarantees the military forces always being under the command of the Party',\n",
        "    'It is the practical guide for the army always to heed the directions of the party'\n",
        "]\n",
        "\n",
        "print('실습 코드의 BLEU :',bleu_score(candidate.split(),list(map(lambda ref: ref.split(), references))))\n",
        "print('패키지 NLTK의 BLEU :',bleu.sentence_bleu(list(map(lambda ref: ref.split(), references)),candidate.split()))\n"
      ],
      "metadata": {
        "colab": {
          "base_uri": "https://localhost:8080/"
        },
        "id": "BE2hvwOQueHk",
        "outputId": "396ad00f-015b-408e-eaa0-bfd21f7e352d"
      },
      "execution_count": 12,
      "outputs": [
        {
          "output_type": "stream",
          "name": "stdout",
          "text": [
            "실습 코드의 BLEU : 0.5045666840058485\n",
            "패키지 NLTK의 BLEU : 0.5045666840058485\n"
          ]
        }
      ]
    }
  ]
}